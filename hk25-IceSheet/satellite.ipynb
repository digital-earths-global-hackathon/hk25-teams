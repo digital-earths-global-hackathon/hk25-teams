{
 "cells": [
  {
   "cell_type": "markdown",
   "id": "681df920",
   "metadata": {},
   "source": [
    "# Notebook getting EarthCare data over regions of interest.\n",
    "\n",
    "## To do:\n",
    "- [ ] time and area filter for EarthCare data\n",
    "- [ ] extract model data along satellite tracks (time and space)\n",
    "- [ ] comparisons of model and satellite data"
   ]
  },
  {
   "cell_type": "code",
   "execution_count": null,
   "id": "4705ad6c",
   "metadata": {},
   "outputs": [],
   "source": []
  }
 ],
 "metadata": {
  "kernelspec": {
   "display_name": "hackathon",
   "language": "python",
   "name": "python3"
  },
  "language_info": {
   "name": "python",
   "version": "3.10.17"
  }
 },
 "nbformat": 4,
 "nbformat_minor": 5
}
