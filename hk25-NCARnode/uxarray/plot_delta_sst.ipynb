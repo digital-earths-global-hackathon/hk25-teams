{
 "cells": [
  {
   "cell_type": "markdown",
   "id": "b1a594ef-652f-4303-b45f-7dd540c14ac4",
   "metadata": {},
   "source": [
    "#### Create a pseudocolor plot of MPAS unstructured triangular grid.\n",
    "\n",
    "From Michael Duda:\n",
    "https://www2.mmm.ucar.edu/projects/mpas/tutorial/Howard2024/\n",
    "plot_delta_sst.py\n",
    "\n",
    "\n",
    "Ming Ge Feb 2025\n",
    "\n",
    "**Modified for WCRP Hackathon by Julia Kukulies, May 2025** \n"
   ]
  },
  {
   "cell_type": "code",
   "execution_count": 1,
   "id": "1a4808b8-4d83-46d6-b9ae-190d53ded51e",
   "metadata": {},
   "outputs": [],
   "source": [
    "import xarray as xr\n",
    "import numpy as np\n",
    "import matplotlib.tri as tri\n",
    "import matplotlib.pyplot as plt\n",
    "import cartopy.feature as cfeature\n",
    "import cartopy.crs as ccrs "
   ]
  },
  {
   "cell_type": "code",
   "execution_count": 5,
   "id": "a01f9e38-7c8f-4597-bb5a-899430f7e987",
   "metadata": {},
   "outputs": [],
   "source": [
    "dir_data = \"/glade/campaign/mmm/wmr/fjudt/projects/dyamond_1/7.5km/\"\n",
    "flnm_grid = dir_data + \"x1.10485762.static.nc\"\n",
    "flnm_data = dir_data + \"x1.10485762.sfc_update.nc\""
   ]
  },
  {
   "cell_type": "code",
   "execution_count": 6,
   "id": "d01803d6-ba5f-4c59-a272-f489b950a569",
   "metadata": {},
   "outputs": [],
   "source": [
    "ds_i = xr.open_dataset(flnm_data)\n",
    "sst = ds_i.sst[10] -  ds_i.sst[0]\n",
    "\n",
    "# get latCell, lonCell\n",
    "ds_i = xr.open_dataset(flnm_grid)\n",
    "ds_i = ds_i.squeeze()\n",
    "\n",
    "# Convert to degrees from radians¶\n",
    "lonData = np.degrees(ds_i.lonCell)\n",
    "latData = np.degrees(ds_i.latCell)\n",
    "\n",
    "# convert lonData to range [-180, 180]\n",
    "lonData = ((lonData + 180) % 360) - 180\n",
    "\n",
    "triang = tri.Triangulation(lonData, latData)"
   ]
  },
  {
   "cell_type": "code",
   "execution_count": null,
   "id": "62540526-21f9-4f21-8e80-5f65229a9326",
   "metadata": {},
   "outputs": [],
   "source": [
    "%%time\n",
    "fig, ax = plt.subplots(figsize=(10, 5), subplot_kw={'projection': ccrs.PlateCarree()}, dpi=300)\n",
    "\n",
    "ax.set_global\n",
    "\n",
    "# Choose resolution of map features.\n",
    "# Note that these features are downloaded when plotting for the first time, and for the entire globe,\n",
    "#  so requesting high resolution can take several minutes.\n",
    "scale = '110m' # '50m' # '10m'\n",
    "\n",
    "ax.add_feature(cfeature.OCEAN.with_scale(scale))\n",
    "ax.add_feature(cfeature.STATES.with_scale(scale))\n",
    "ax.add_feature(cfeature.LAKES.with_scale(scale), alpha=0.5)\n",
    "ax.add_feature(cfeature.COASTLINE.with_scale(scale))\n",
    "\n",
    "mm = ax.tripcolor(triang, sst, edgecolors='none', \n",
    "                  transform=ccrs.PlateCarree(),\n",
    "                  cmap = 'RdYlBu_r', clim = (-2,2))\n",
    "# mask land\n",
    "ax.add_feature(cfeature.LAND, facecolor='white', zorder=1) \n",
    "\n",
    "# Add a colorbar axis at the bottom of the graph\n",
    "cbar_ax = fig.add_axes([0.2, 0.04, 0.6, 0.04])\n",
    "\n",
    "# Draw the colorbar\n",
    "cbar=fig.colorbar(mm, cax=cbar_ax,orientation='horizontal', extend='both')\n",
    "\n",
    "plt.suptitle('delta SST', fontweight=\"bold\", fontsize=14);\n"
   ]
  },
  {
   "cell_type": "code",
   "execution_count": null,
   "id": "11c65199-b8b1-48cf-87d2-f46e21aa47cb",
   "metadata": {},
   "outputs": [],
   "source": []
  }
 ],
 "metadata": {
  "kernelspec": {
   "display_name": "2025 Digital Earths Hackathon",
   "language": "python",
   "name": "2025-digital-earths-global-hackathon"
  },
  "language_info": {
   "codemirror_mode": {
    "name": "ipython",
    "version": 3
   },
   "file_extension": ".py",
   "mimetype": "text/x-python",
   "name": "python",
   "nbconvert_exporter": "python",
   "pygments_lexer": "ipython3",
   "version": "3.12.10"
  }
 },
 "nbformat": 4,
 "nbformat_minor": 5
}
