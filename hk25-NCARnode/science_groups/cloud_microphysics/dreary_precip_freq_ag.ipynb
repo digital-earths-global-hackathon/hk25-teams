{
 "cells": [
  {
   "cell_type": "code",
   "execution_count": null,
   "id": "a6f38d1e-0598-45a8-b135-76ce8ebed37b",
   "metadata": {},
   "outputs": [],
   "source": [
    "import healpix as hp\n",
    "import numpy as np\n",
    "import xarray as xr\n",
    "import intake\n",
    "import numcodecs\n",
    "import zarr\n",
    "\n",
    "import easygems.healpix as egh\n",
    "import easygems.remap as egr\n",
    "\n",
    "import matplotlib.pyplot as plt\n",
    "\n",
    "import dask.array as da\n",
    "\n",
    "import glob\n",
    "import pandas as pd\n",
    "\n",
    "import cartopy.crs as ccrs\n",
    "import cartopy.feature as cf\n",
    "\n",
    "import warnings\n",
    "warnings.filterwarnings(\"ignore\", category=FutureWarning) # don't warn us about future package conflicts"
   ]
  },
  {
   "cell_type": "code",
   "execution_count": null,
   "id": "4861e3d0-2f78-4616-897e-ad9a06144529",
   "metadata": {},
   "outputs": [],
   "source": [
    "plt.rcParams['figure.figsize'] = [12, 8]"
   ]
  },
  {
   "cell_type": "code",
   "execution_count": null,
   "id": "94fdfed6-506e-495e-99b4-cd677f1c5e8e",
   "metadata": {},
   "outputs": [],
   "source": []
  },
  {
   "cell_type": "code",
   "execution_count": null,
   "id": "ee44827f-5122-4678-bc68-0f9b7fd64a89",
   "metadata": {},
   "outputs": [],
   "source": [
    "current_location = \"NCAR\"\n",
    "cat = intake.open_catalog(\"https://digital-earths-global-hackathon.github.io/catalog/catalog.yaml\")[current_location]"
   ]
  },
  {
   "cell_type": "code",
   "execution_count": null,
   "id": "f9a7d03f-9825-4a20-a07c-9aa63081f987",
   "metadata": {},
   "outputs": [],
   "source": [
    "#list(cat)"
   ]
  },
  {
   "cell_type": "code",
   "execution_count": null,
   "id": "25a0aaaf-8327-4ad9-87d4-b7902e9aad01",
   "metadata": {},
   "outputs": [],
   "source": [
    "# Query a data set\n",
    "#pd.DataFrame(cat[\"scream2D_hrly\"].describe()[\"user_parameters\"])\n"
   ]
  },
  {
   "cell_type": "code",
   "execution_count": null,
   "id": "b6f7b451-c26c-4cdd-bca8-752f867ab610",
   "metadata": {},
   "outputs": [],
   "source": [
    "ds = cat[\"scream2D_hrly\"](zoom=6).to_dask() \n",
    "ds = ds.pipe(egh.attach_coords)\n",
    "#ds"
   ]
  },
  {
   "cell_type": "code",
   "execution_count": null,
   "id": "8190bd13-48a1-4ea6-9fda-53d9b0937cd2",
   "metadata": {},
   "outputs": [],
   "source": [
    "mmdy=86400.*1000. #mm/dy\n",
    "mmhr=3600.*1000. #mm/hr"
   ]
  },
  {
   "cell_type": "markdown",
   "id": "5fa02c1f-e4d0-438c-a9ed-e7c789e76d55",
   "metadata": {},
   "source": [
    "### Precipitation Frequency\n",
    "Start with a month... pull out the data and make a mask by a threshold? \n",
    "\n",
    "Or save a precip mask "
   ]
  },
  {
   "cell_type": "code",
   "execution_count": null,
   "id": "f31cb71b-e77b-4c5b-9c14-c6fda0e91dd2",
   "metadata": {},
   "outputs": [],
   "source": [
    "threshold = 1  # example:  1 mm/dy\n",
    "\n",
    "# Step 1: Create binary mask (1 if pr > threshold, else 0)\n",
    "mask = (ds['pr']*mmdy > threshold)\n",
    "\n",
    "# Step 2: Group by month and count\n",
    "count = mask.groupby(\"time.month\").sum(\"time\")  # Number of hours above threshold\n",
    "\n",
    "# Optional: frequency (fraction of time exceeding threshold)\n",
    "frequency = mask.groupby(\"time.month\").mean(\"time\")  # Fraction of time above threshold"
   ]
  },
  {
   "cell_type": "code",
   "execution_count": null,
   "id": "140df0c7-08f3-4cf3-bdba-3dd3a86b430d",
   "metadata": {},
   "outputs": [],
   "source": [
    "mo=6\n",
    "z=7\n",
    "egh.healpix_show(frequency.sel(month=mo),cmap=\"BuPu\")\n",
    "plt.title(\"Frequency of Precipitation, Month=\"+str(mo)+\", zoom \"+str(z))"
   ]
  },
  {
   "cell_type": "code",
   "execution_count": null,
   "id": "b3ceef2b-437a-4f2f-883f-e5f4150a7b74",
   "metadata": {},
   "outputs": [],
   "source": [
    "del mask,count"
   ]
  },
  {
   "cell_type": "code",
   "execution_count": null,
   "id": "5c25da74-10d1-4336-bbdd-8060fc539756",
   "metadata": {},
   "outputs": [],
   "source": [
    "### High resolution"
   ]
  },
  {
   "cell_type": "code",
   "execution_count": null,
   "id": "fe277552-e6d2-4223-8154-0613fa85ce7e",
   "metadata": {},
   "outputs": [],
   "source": [
    "z=10\n",
    "dshi = cat[\"scream2D_hrly\"](zoom=z).to_dask() \n",
    "dshi = dshi.pipe(egh.attach_coords)\n",
    "#dshi"
   ]
  },
  {
   "cell_type": "code",
   "execution_count": null,
   "id": "12632926-3283-4976-b1a9-4b9d58e43af2",
   "metadata": {},
   "outputs": [],
   "source": [
    "# Step 1: Create binary mask (1 if pr > threshold, else 0)\n",
    "mask = (dshi['pr']*mmdy > threshold)\n",
    "\n",
    "# Step 2: Group by month and count\n",
    "count = mask.groupby(\"time.month\").sum(\"time\")  # Number of hours above threshold\n",
    "\n",
    "# Optional: frequency (fraction of time exceeding threshold)\n",
    "frequency_hi = mask.groupby(\"time.month\").mean(\"time\")  # Fraction of time above threshold"
   ]
  },
  {
   "cell_type": "code",
   "execution_count": null,
   "id": "893a11ee-2d5f-44dd-99c6-f50411843ec7",
   "metadata": {},
   "outputs": [],
   "source": [
    "%%time\n",
    "mo=6\n",
    "projection = ccrs.Robinson()\n",
    "fig, axs = plt.subplots(subplot_kw={\"projection\": projection})\n",
    "axs.set_global()\n",
    "mappable = egh.healpix_show(frequency_hi.sel(month=mo),ax=axs,cmap=\"BuPu\")\n",
    "\n",
    "#Add map features\n",
    "axs.add_feature(cf.COASTLINE, linewidth=0.8)\n",
    "#ax.add_feature(cf.BORDERS, linewidth=0.4)\n",
    "\n",
    "#Add colorbar\n",
    "fig.colorbar(\n",
    "    mappable, ax=axs, orientation='vertical', shrink=0.7, pad=0.05,\n",
    "    label=\"Precipitation Frequency (>1 mm)\"\n",
    ")\n",
    "plt.title(\"SCREAM Frequency of Precipitation, zoom \"+str(z)+\", Month=\"+str(mo))"
   ]
  },
  {
   "cell_type": "markdown",
   "id": "f36030f5-f240-492f-83d6-21d236db4f3d",
   "metadata": {},
   "source": [
    "### Zonal Means"
   ]
  },
  {
   "cell_type": "code",
   "execution_count": null,
   "id": "97bbc6c2-6d0b-44cd-b679-d2ccd686bf68",
   "metadata": {},
   "outputs": [],
   "source": [
    "%%time\n",
    "zmlo = (\n",
    "    frequency\n",
    "    .groupby(\"lat\")\n",
    "    .mean()\n",
    ").compute()"
   ]
  },
  {
   "cell_type": "code",
   "execution_count": null,
   "id": "e29a0d16-2f26-47ef-a864-f625346af8bc",
   "metadata": {},
   "outputs": [],
   "source": [
    "zmhi= (\n",
    "    frequency_hi\n",
    "    .groupby(\"lat\")\n",
    "    .mean()\n",
    ")"
   ]
  },
  {
   "cell_type": "code",
   "execution_count": null,
   "id": "496ee87a-e702-4d00-8111-67ff843d204d",
   "metadata": {},
   "outputs": [],
   "source": [
    "%%time\n",
    "mo=6\n",
    "zmlo.isel(month=6).plot(label='Zoom 7')\n",
    "zmhi.isel(month=6).plot(label='Zoom 10')\n",
    "plt.legend()\n",
    "plt.title(\"Zonal Mean Precip Frequency, mo=\"+str(mo))"
   ]
  },
  {
   "cell_type": "markdown",
   "id": "390732a9-91dd-4743-a2f8-2300b6b79035",
   "metadata": {},
   "source": [
    "### Next Steps\n",
    "- Now make the same plot from ICON, eventually loop over models. Also have observations.\n",
    "- Seasonal would be ideal, but some models only have a month (MPAS): Start with MPAS, then ICON\n",
    "- OBservations (IMERGE) are zoom=9"
   ]
  },
  {
   "cell_type": "code",
   "execution_count": null,
   "id": "36ec5ba4-e22b-4328-9741-a31d7b95ffd7",
   "metadata": {},
   "outputs": [],
   "source": []
  }
 ],
 "metadata": {
  "kernelspec": {
   "display_name": "2025 Digital Earths Hackathon",
   "language": "python",
   "name": "2025-digital-earths-global-hackathon"
  },
  "language_info": {
   "codemirror_mode": {
    "name": "ipython",
    "version": 3
   },
   "file_extension": ".py",
   "mimetype": "text/x-python",
   "name": "python",
   "nbconvert_exporter": "python",
   "pygments_lexer": "ipython3",
   "version": "3.12.10"
  }
 },
 "nbformat": 4,
 "nbformat_minor": 5
}
