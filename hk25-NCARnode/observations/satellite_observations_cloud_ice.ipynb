{
 "cells": [
  {
   "cell_type": "markdown",
   "id": "73107596-75a8-4704-b7c2-edca22ac57f7",
   "metadata": {},
   "source": [
    "# Access satellite-based cloud observations from Amazon web services "
   ]
  },
  {
   "cell_type": "markdown",
   "id": "ab0d1d60-b685-4d64-adc3-c11b83098a6f",
   "metadata": {},
   "source": [
    "More information about the **Chalmers Cloud Ice Climatology (CCIC) dataset**: https://registry.opendata.aws/ccic/"
   ]
  },
  {
   "cell_type": "code",
   "execution_count": 1,
   "id": "4e7e6caf-fc05-4399-8f07-5f94223a6227",
   "metadata": {},
   "outputs": [],
   "source": [
    "from pathlib import Path \n",
    "import xarray as xr \n",
    "import s3fs \n",
    "\n",
    "aws_path = Path('chalmerscloudiceclimatology/record/cpcir/')"
   ]
  },
  {
   "cell_type": "markdown",
   "id": "0924f945-ed72-4888-b89d-c8304c51542b",
   "metadata": {},
   "source": [
    "### Read in global data for a specific month"
   ]
  },
  {
   "cell_type": "code",
   "execution_count": 2,
   "id": "ef79c863-3b09-4d1f-8fdd-0969bd4bc27f",
   "metadata": {},
   "outputs": [],
   "source": [
    "# choose a year and month\n",
    "year = 2020 \n",
    "month = 8 "
   ]
  },
  {
   "cell_type": "code",
   "execution_count": 3,
   "id": "e8f9a623-e656-42b0-952f-0c97a2e23ea8",
   "metadata": {},
   "outputs": [
    {
     "name": "stdout",
     "output_type": "stream",
     "text": [
      "['chalmerscloudiceclimatology/record/cpcir/2020/ccic_cpcir_202008010000.zarr', 'chalmerscloudiceclimatology/record/cpcir/2020/ccic_cpcir_202008010100.zarr', 'chalmerscloudiceclimatology/record/cpcir/2020/ccic_cpcir_202008010200.zarr', 'chalmerscloudiceclimatology/record/cpcir/2020/ccic_cpcir_202008010300.zarr', 'chalmerscloudiceclimatology/record/cpcir/2020/ccic_cpcir_202008010400.zarr', 'chalmerscloudiceclimatology/record/cpcir/2020/ccic_cpcir_202008010500.zarr', 'chalmerscloudiceclimatology/record/cpcir/2020/ccic_cpcir_202008010600.zarr', 'chalmerscloudiceclimatology/record/cpcir/2020/ccic_cpcir_202008010700.zarr', 'chalmerscloudiceclimatology/record/cpcir/2020/ccic_cpcir_202008010800.zarr', 'chalmerscloudiceclimatology/record/cpcir/2020/ccic_cpcir_202008010900.zarr']\n"
     ]
    }
   ],
   "source": [
    "s3 = s3fs.S3FileSystem(anon=True)\n",
    "fnames = s3.glob(str(aws_path) + '/'+ str(year) +  '/*'+ str(year) + str(month).zfill(2)  +'*zarr')\n",
    "fnames.sort()\n",
    "\n",
    "# check the file list \n",
    "print(fnames[0:10])"
   ]
  },
  {
   "cell_type": "markdown",
   "id": "f59b7c97-9710-4083-8a0e-29d47060b13a",
   "metadata": {},
   "source": [
    "### Open a file"
   ]
  },
  {
   "cell_type": "code",
   "execution_count": null,
   "id": "5077b3da-e602-4fe3-a16b-902cf72a4c13",
   "metadata": {},
   "outputs": [],
   "source": [
    "fname = fnames[0]\n",
    "ds_ccic = xr.open_zarr(s3.get_mapper(fname))\n",
    "ds_ccic"
   ]
  },
  {
   "cell_type": "code",
   "execution_count": null,
   "id": "ce706e4d-6a1e-4a01-9a14-1faf2f17a527",
   "metadata": {},
   "outputs": [],
   "source": []
  },
  {
   "cell_type": "code",
   "execution_count": null,
   "id": "0d6a7a88-ad97-45e0-9679-f52919b78170",
   "metadata": {},
   "outputs": [],
   "source": []
  },
  {
   "cell_type": "code",
   "execution_count": null,
   "id": "8204b2bf-3987-475d-b33f-e27a2593c2c0",
   "metadata": {},
   "outputs": [],
   "source": []
  },
  {
   "cell_type": "code",
   "execution_count": null,
   "id": "fdc9420e-de4f-4e78-a7bd-cae70d62b0e5",
   "metadata": {},
   "outputs": [],
   "source": []
  },
  {
   "cell_type": "code",
   "execution_count": null,
   "id": "fd436fa1-0be2-4f6e-8534-d25e743d574a",
   "metadata": {},
   "outputs": [],
   "source": []
  },
  {
   "cell_type": "code",
   "execution_count": null,
   "id": "6c8acd09-5a91-4cdb-86f8-039d82a5a229",
   "metadata": {},
   "outputs": [],
   "source": []
  }
 ],
 "metadata": {
  "kernelspec": {
   "display_name": "jupjup",
   "language": "python",
   "name": "jupjup"
  },
  "language_info": {
   "codemirror_mode": {
    "name": "ipython",
    "version": 3
   },
   "file_extension": ".py",
   "mimetype": "text/x-python",
   "name": "python",
   "nbconvert_exporter": "python",
   "pygments_lexer": "ipython3",
   "version": "3.10.12"
  }
 },
 "nbformat": 4,
 "nbformat_minor": 5
}
